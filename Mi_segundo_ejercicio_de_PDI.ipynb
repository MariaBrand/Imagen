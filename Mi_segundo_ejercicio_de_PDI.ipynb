{
  "nbformat": 4,
  "nbformat_minor": 0,
  "metadata": {
    "colab": {
      "name": "Mi segundo ejercicio de PDI.ipynb",
      "provenance": [],
      "collapsed_sections": [],
      "authorship_tag": "ABX9TyMRLxcIeSzLzQkUZCqyIhXf",
      "include_colab_link": true
    },
    "kernelspec": {
      "name": "python3",
      "display_name": "Python 3"
    }
  },
  "cells": [
    {
      "cell_type": "markdown",
      "metadata": {
        "id": "view-in-github",
        "colab_type": "text"
      },
      "source": [
        "<a href=\"https://colab.research.google.com/github/MariaBrand/Imagen/blob/master/Mi_segundo_ejercicio_de_PDI.ipynb\" target=\"_parent\"><img src=\"https://colab.research.google.com/assets/colab-badge.svg\" alt=\"Open In Colab\"/></a>"
      ]
    },
    {
      "cell_type": "markdown",
      "metadata": {
        "id": "ZNn8TcSawNDk",
        "colab_type": "text"
      },
      "source": [
        "LIBRERIAS SUPER IMPORTANTES QUE SI LAS SUPIERAMOS UTILIZAR SERIAMOS DIOSES -Walter"
      ]
    },
    {
      "cell_type": "code",
      "metadata": {
        "id": "bLJ467Ygsqzk",
        "colab_type": "code",
        "colab": {}
      },
      "source": [
        "import cv2\n",
        "#Averiguar el manejo de las librerías (Muy importante)\n",
        "import tensorflow #Más escalabilidad\n",
        "import torch #Más intuitiva\n",
        "import numpy\n"
      ],
      "execution_count": 0,
      "outputs": []
    },
    {
      "cell_type": "code",
      "metadata": {
        "id": "kfDHK9qGwLIl",
        "colab_type": "code",
        "outputId": "155ea592-3929-487c-e455-19a324dfe060",
        "colab": {
          "base_uri": "https://localhost:8080/",
          "height": 34
        }
      },
      "source": [
        "x=0\n",
        "#Averiguar como se inicializan las variables (Int, boolean, String..)\n",
        "print(\"El número es\",x)"
      ],
      "execution_count": 0,
      "outputs": [
        {
          "output_type": "stream",
          "text": [
            "El número es 0\n"
          ],
          "name": "stdout"
        }
      ]
    },
    {
      "cell_type": "code",
      "metadata": {
        "id": "lS5llQX9zIzp",
        "colab_type": "code",
        "outputId": "3f9f4fb3-51e7-44d5-d894-8706d5b150fd",
        "colab": {
          "base_uri": "https://localhost:8080/",
          "height": 51
        }
      },
      "source": [
        "#Crear una lista\n",
        "y=[1,2,3,4,5]\n",
        "#Para buscar el ultimo valor de una lista se utiliza la posición -1. Para el penultimo la posición -2...\n",
        "print(y[0])\n",
        "y[0]=10\n",
        "print(y)\n",
        "\n"
      ],
      "execution_count": 0,
      "outputs": [
        {
          "output_type": "stream",
          "text": [
            "1\n",
            "[10, 2, 3, 4, 5]\n"
          ],
          "name": "stdout"
        }
      ]
    },
    {
      "cell_type": "code",
      "metadata": {
        "id": "FDQCZGv20r1p",
        "colab_type": "code",
        "outputId": "1d134a3a-a31c-49de-e1a7-3b083dafacf6",
        "colab": {
          "base_uri": "https://localhost:8080/",
          "height": 34
        }
      },
      "source": [
        "y.append(-5)\n",
        "print(y)"
      ],
      "execution_count": 0,
      "outputs": [
        {
          "output_type": "stream",
          "text": [
            "[10, 2, 3, 4, 5, -5]\n"
          ],
          "name": "stdout"
        }
      ]
    },
    {
      "cell_type": "code",
      "metadata": {
        "id": "Yd1FesH31DtJ",
        "colab_type": "code",
        "outputId": "ac40efeb-c9c6-497b-feb9-364b1affe9d4",
        "colab": {
          "base_uri": "https://localhost:8080/",
          "height": 34
        }
      },
      "source": [
        "del y[0]\n",
        "print(y)"
      ],
      "execution_count": 0,
      "outputs": [
        {
          "output_type": "stream",
          "text": [
            "[2, 3, 4, 5, -5]\n"
          ],
          "name": "stdout"
        }
      ]
    },
    {
      "cell_type": "code",
      "metadata": {
        "id": "lOVlqx1n1NjC",
        "colab_type": "code",
        "outputId": "b006f8b2-2f3a-4c94-ed38-c94ef4f0334d",
        "colab": {
          "base_uri": "https://localhost:8080/",
          "height": 34
        }
      },
      "source": [
        "y.remove(4)\n",
        "print(y)"
      ],
      "execution_count": 0,
      "outputs": [
        {
          "output_type": "stream",
          "text": [
            "[2, 3, 5, -5]\n"
          ],
          "name": "stdout"
        }
      ]
    },
    {
      "cell_type": "code",
      "metadata": {
        "id": "AF02YOs21pnN",
        "colab_type": "code",
        "outputId": "3c419326-7455-4e7d-ad3a-a941ba2fd565",
        "colab": {
          "base_uri": "https://localhost:8080/",
          "height": 34
        }
      },
      "source": [
        "z=[2,2,2,4,5,6]\n",
        "z.remove(2) #Solo remueve el primer 2 que se encuentra\n",
        "print(z)"
      ],
      "execution_count": 0,
      "outputs": [
        {
          "output_type": "stream",
          "text": [
            "[2, 2, 4, 5, 6]\n"
          ],
          "name": "stdout"
        }
      ]
    },
    {
      "cell_type": "code",
      "metadata": {
        "id": "jUqORZpG2OOX",
        "colab_type": "code",
        "colab": {}
      },
      "source": [
        "def suma(a,b):\n",
        "  a=12\n",
        "  b=9\n",
        "  s=a+b \n",
        "  return s  \n"
      ],
      "execution_count": 0,
      "outputs": []
    },
    {
      "cell_type": "code",
      "metadata": {
        "id": "33O7eSj64Yus",
        "colab_type": "code",
        "outputId": "151f57ab-fc9f-40d2-c46c-3efb7d0d853a",
        "colab": {
          "base_uri": "https://localhost:8080/",
          "height": 34
        }
      },
      "source": [
        "def area(l,a):\n",
        "  ar = l*a\n",
        "  return ar\n",
        "\n",
        "def peri(l,a):\n",
        "  pe =2*l+2*a\n",
        "  return pe\n",
        "\n",
        "def cuadrado(l,a):\n",
        "  return peri(l,a), area(l,a)\n",
        "\n",
        "def vago():\n",
        "  pass #Es una palabra reservada, \"no hace nada\" :3\n",
        "  #continue acaba la iteracion, break acaba el ciclo\n",
        "\n",
        "cuadrado(2,3)\n",
        "\n",
        "\n",
        "\n"
      ],
      "execution_count": 0,
      "outputs": [
        {
          "output_type": "execute_result",
          "data": {
            "text/plain": [
              "(10, 6)"
            ]
          },
          "metadata": {
            "tags": []
          },
          "execution_count": 32
        }
      ]
    },
    {
      "cell_type": "code",
      "metadata": {
        "id": "tovvu2F9FsgS",
        "colab_type": "code",
        "colab": {}
      },
      "source": [
        ""
      ],
      "execution_count": 0,
      "outputs": []
    }
  ]
}